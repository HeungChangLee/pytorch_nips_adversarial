{
 "cells": [
  {
   "cell_type": "code",
   "execution_count": 19,
   "metadata": {},
   "outputs": [],
   "source": [
    "import torch, torchvision\n",
    "import torch.nn as nn\n",
    "import torch.optim as optim\n",
    "from torch.optim import lr_scheduler\n",
    "import torchvision.datasets as datasets\n",
    "import torch.utils.data as data\n",
    "import torchvision.transforms as transforms\n",
    "from torch.autograd import Variable\n",
    "import torchvision.models as models\n",
    "import matplotlib.pyplot as plt\n",
    "import time, os, copy, numpy as np\n",
    "from livelossplot import PlotLosses\n",
    "from train_model import train_model\n",
    "%matplotlib inline"
   ]
  },
  {
   "cell_type": "code",
   "execution_count": 28,
   "metadata": {},
   "outputs": [
    {
     "name": "stdout",
     "output_type": "stream",
     "text": [
      "448.3079557418823\n"
     ]
    }
   ],
   "source": [
    "from multiprocessing import Pool\n",
    "\n",
    "if __name__ == '__main__':\n",
    "    p = Pool(64)\n",
    "    start = time.time()\n",
    "    \n",
    "    train_val = ['train', 'train_noise']\n",
    "    \n",
    "    tr = train_val[1]\n",
    "    cat_path = '/disk/LHC/images/64/' + tr + '/'\n",
    "    save_cat_path = '/disk/LHC/images/71_60to70/' + tr + '/'\n",
    "    cat_list = os.listdir(cat_path)\n",
    "    for cat in cat_list:\n",
    "        p.apply_async(randomized_layer, (tr, cat_path, cat, save_cat_path, ))\n",
    "    p.close()\n",
    "    p.join()\n",
    "    p.terminate()\n",
    "            \n",
    "    end = time.time()\n",
    "\n",
    "print(end-start)\n",
    "                "
   ]
  },
  {
   "cell_type": "code",
   "execution_count": 25,
   "metadata": {},
   "outputs": [
    {
     "data": {
      "image/png": "[encoded data removed]",
      "text/plain": [
       "<PIL.PngImagePlugin.PngImageFile image mode=RGB size=71x71 at 0x7FC1D19FF4A8>"
      ]
     },
     "execution_count": 25,
     "metadata": {},
     "output_type": "execute_result"
    }
   ],
   "source": [
    "a = '/disk/LHC/images/71_60to70/train/000/images/n02124075_276_65_3_3.png'\n",
    "im = Image.open(a)\n",
    "im"
   ]
  },
  {
   "cell_type": "code",
   "execution_count": 26,
   "metadata": {},
   "outputs": [],
   "source": [
    "from PIL import Image, ImageOps\n",
    "import random\n",
    "\n",
    "def randomized_layer(tr, cat_path, cat, save_cat_path):\n",
    "    \n",
    "    if 'noise' in tr:\n",
    "        folder_path = cat_path + cat + '/'\n",
    "    else:\n",
    "        folder_path = cat_path + cat + '/images/'\n",
    "    save_folder_path = save_cat_path + cat + '/'\n",
    "    image_list = os.listdir(folder_path)\n",
    "\n",
    "    for image in image_list:\n",
    "        image_path = folder_path + image\n",
    "        im = Image.open(image_path)\n",
    "        new_size = (71, 71)\n",
    "        \n",
    "        for a in range(60,70):\n",
    "            img = im.resize((a,a), Image.ANTIALIAS)\n",
    "            old_size = img.size\n",
    "            for i in range(10):\n",
    "                new_im = Image.new(\"RGB\", new_size) \n",
    "                rand_value_1 = random.randint(0,round((new_size[0]-old_size[0])/2))\n",
    "                rand_value_2 = random.randint(0,round((new_size[0]-old_size[0])/2))\n",
    "                new_im.paste(img, (rand_value_1, rand_value_2))\n",
    "                tmp_file_name = image.split('.')[0]\n",
    "                file_name = tmp_file_name + '_' +str(a) + '_' + str(rand_value_1) + '_' + str(rand_value_2) + '.png'\n",
    "                new_im.save(save_folder_path + file_name) \n",
    "#         os.remove(image_path)\n",
    "\n"
   ]
  },
  {
   "cell_type": "code",
   "execution_count": null,
   "metadata": {},
   "outputs": [],
   "source": [
    "image_path = '/disk/MTJ/images/64/train_noise/000/8.png'\n",
    "image = '8.png'"
   ]
  },
  {
   "cell_type": "code",
   "execution_count": null,
   "metadata": {},
   "outputs": [],
   "source": [
    "im = Image.open(image_path)\n",
    "a = random.randint(64,70)\n",
    "img = im.resize((a,a), Image.ANTIALIAS)\n",
    "old_size = img.size\n",
    "new_size = (71, 71)\n",
    "new_im = Image.new(\"RGB\", new_size)   ## luckily, this is already black!\n",
    "new_im.paste(img, (random.randint(0,round((new_size[0]-old_size[0])/2)), random.randint(0,round((new_size[0]-old_size[0])/2))))\n",
    "tmp_file_name = image.split('.')[0]\n",
    "file_name = tmp_file_name + '_' + str(a) + '_' + str(round((new_size[0]-old_size[0])/2)) + '.png'\n",
    "# new_im.save(folder_path + file_name)   \n",
    "print(file_name)\n",
    "new_im"
   ]
  },
  {
   "cell_type": "code",
   "execution_count": null,
   "metadata": {},
   "outputs": [],
   "source": [
    "round((new_size[0]-old_size[0])/2)"
   ]
  },
  {
   "cell_type": "code",
   "execution_count": null,
   "metadata": {},
   "outputs": [],
   "source": [
    "new_size = (71, 71)\n",
    "new_im = Image.new(\"RGB\", new_size)   ## luckily, this is already black!\n",
    "new_im.paste(img, (random.randint(0,round((new_size[0]-old_size[0])/2)), random.randint(0,round((new_size[0]-old_size[0])/2))))\n",
    "new_im"
   ]
  },
  {
   "cell_type": "code",
   "execution_count": null,
   "metadata": {},
   "outputs": [],
   "source": [
    "data_transforms = {\n",
    "    'train': transforms.Compose([\n",
    "        transforms.ToTensor()\n",
    "    ]),\n",
    "    'aug1': transforms.Compose([\n",
    "        transforms.RandomResizedCrop()\n",
    "        transforms.RandomHorizontalFlip(1),\n",
    "        transforms.ToTensor()\n",
    "    ]),\n",
    "    'aug2': transforms.Compose([\n",
    "        transforms.RandomRotation(15),\n",
    "        transforms.ToTensor()\n",
    "    ]),\n",
    "#     'aug3': transforms.Compose([\n",
    "#         transforms.RandomCrop(224),\n",
    "#         transforms.ToTensor()\n",
    "#     ]),\n",
    "#     'aug4': transforms.Compose([\n",
    "#         transforms.RandomCrop(224),\n",
    "#         transforms.RandomHorizontalFlip(1),\n",
    "#         transforms.ToTensor()\n",
    "#     ]),\n",
    "    'val': transforms.Compose([\n",
    "        transforms.ToTensor()\n",
    "    ]),\n",
    "}\n",
    "\n",
    "train_datasets =  datasets.ImageFolder('/disk/MTJ/images/64/train', data_transforms['train'])\n",
    "augmt1_datasets = datasets.ImageFolder('/disk/MTJ/images/64/train', data_transforms['aug1'])\n",
    "augmt2_datasets = datasets.ImageFolder('/disk/MTJ/images/64/train', data_transforms['aug2'])\n",
    "# augmt3_datasets = datasets.ImageFolder('tiny-imagenet-200-256/train', data_transforms['aug3'])\n",
    "# augmt4_datasets = datasets.ImageFolder('tiny-imagenet-200-256/train', data_transforms['aug4'])\n",
    "valid_datasets =  datasets.ImageFolder('/disk/MTJ/images/64/val',   data_transforms['val'])\n",
    "\n",
    "concat = torch.utils.data.ConcatDataset([\n",
    "    train_datasets,\n",
    "    augmt1_datasets,\n",
    "    augmt2_datasets,\n",
    "#     augmt3_datasets,\n",
    "#     augmt4_datasets,\n",
    "])\n",
    "\n",
    "dataloaders = {\n",
    "    'train' : torch.utils.data.DataLoader(concat, batch_size=100, shuffle=True, num_workers=64),\n",
    "    'val'   : torch.utils.data.DataLoader(valid_datasets, batch_size=100, shuffle=True, num_workers=64)\n",
    "}\n",
    "\n",
    "dataset_sizes = {\n",
    "    'train' : len(concat),\n",
    "    'val'   : len(valid_datasets)\n",
    "}"
   ]
  },
  {
   "cell_type": "code",
   "execution_count": null,
   "metadata": {},
   "outputs": [],
   "source": []
  },
  {
   "cell_type": "code",
   "execution_count": null,
   "metadata": {},
   "outputs": [],
   "source": [
    "#Load Resnet18 with pretrained weights\n",
    "model_ft = models.resnet18()\n",
    "#Finetune Final few layers to adjust for tiny imagenet input\n",
    "model_ft.avgpool = nn.AdaptiveAvgPool2d(1)\n",
    "num_ftrs = model_ft.fc.in_features\n",
    "model_ft.fc = nn.Linear(num_ftrs, 200)\n",
    "model_ft.conv1 = nn.Conv2d(3,64, kernel_size=(3,3), stride=(1,1), padding=(1,1))\n",
    "model_ft.maxpool = nn.Sequential()\n",
    "\n",
    "device = torch.device(\"cuda:0\" if torch.cuda.is_available() else \"cpu\")\n",
    "model_ft = model_ft.to(device)\n",
    "#Multi GPU\n",
    "# model_ft = torch.nn.DataParallel(model_ft, device_ids=[0, 1])\n",
    "#Load 256x256 tiny-imagenet trained ResNet18\n",
    "pretrained_dict = torch.load('/disk/MTJ/models/resnet18_256_normalized.pt')\n",
    "model_ft_dict = model_ft.state_dict()\n",
    "\n",
    "#Reset 1st layer weight\n",
    "first_layer_weight = model_ft_dict['module.conv1.weight']\n",
    "first_layer_bias  = model_ft_dict['module.conv1.bias']\n",
    "pretrained_dict = {k: v for k, v in pretrained_dict.items() if k in model_ft_dict}\n",
    "\n",
    "model_ft_dict.update(pretrained_dict) \n",
    "model_ft_dict['module.conv1.weight'] = first_layer_weight\n",
    "model_ft_dict['module.conv1.bias']   = first_layer_bias\n",
    "\n",
    "#Load pretrained weight from layer 2~18\n",
    "model_ft.load_state_dict(model_ft_dict)\n",
    "\n",
    "\n",
    "#Loss Function\n",
    "criterion = nn.CrossEntropyLoss()\n",
    "# Observe that all parameters are being optimized\n",
    "optimizer_ft = optim.SGD(model_ft.parameters(), lr=0.001, momentum=0.9)\n",
    "\n",
    "# Decay LR by a factor of 0.1 every 7 epochs\n",
    "exp_lr_scheduler = lr_scheduler.StepLR(optimizer_ft, step_size=7, gamma=0.1)"
   ]
  },
  {
   "cell_type": "code",
   "execution_count": null,
   "metadata": {},
   "outputs": [],
   "source": []
  },
  {
   "cell_type": "code",
   "execution_count": null,
   "metadata": {},
   "outputs": [],
   "source": []
  },
  {
   "cell_type": "code",
   "execution_count": null,
   "metadata": {},
   "outputs": [],
   "source": [
    "#Train\n",
    "model_ft = train_model(model_ft, dataloaders, dataset_sizes, criterion, optimizer_ft, exp_lr_scheduler,\n",
    "                       num_epochs=5)"
   ]
  },
  {
   "cell_type": "code",
   "execution_count": null,
   "metadata": {},
   "outputs": [],
   "source": [
    "torch.save(model_ft.state_dict(), \"./models/resnet18_256_64.pt\") "
   ]
  },
  {
   "cell_type": "code",
   "execution_count": null,
   "metadata": {},
   "outputs": [],
   "source": [
    "torch.save(model_ft, \"./models/resnet18_64_full_model.pt\")"
   ]
  },
  {
   "cell_type": "code",
   "execution_count": null,
   "metadata": {},
   "outputs": [],
   "source": []
  },
  {
   "cell_type": "code",
   "execution_count": null,
   "metadata": {},
   "outputs": [],
   "source": [
    "model_ft = torch.load(\"./models/resnet18_64_full_model.pt\")"
   ]
  },
  {
   "cell_type": "code",
   "execution_count": null,
   "metadata": {},
   "outputs": [],
   "source": [
    "from test_model import test_model\n",
    "\n",
    "data_transforms = {\n",
    "    'val': transforms.Compose([\n",
    "        transforms.ToTensor(),\n",
    "    ])\n",
    "}\n",
    "valid_datasets =  datasets.ImageFolder('./64/val_noise/',   data_transforms['val'])\n",
    "dataloaders = {\n",
    "    'val'   : torch.utils.data.DataLoader(valid_datasets, batch_size=100, shuffle=True, num_workers=0)\n",
    "}\n",
    "dataset_sizes = {\n",
    "    'val'   : len(valid_datasets)\n",
    "}\n",
    "#Loss Function\n",
    "criterion = nn.CrossEntropyLoss()\n",
    "# Observe that all parameters are being optimized\n",
    "optimizer_ft = optim.SGD(model_ft.parameters(), lr=0.001, momentum=0.9)\n",
    "\n",
    "# Decay LR by a factor of 0.1 every 7 epochs\n",
    "exp_lr_scheduler = lr_scheduler.StepLR(optimizer_ft, step_size=7, gamma=0.1)\n",
    "#Test\n",
    "test_model(model_ft, dataloaders, dataset_sizes, criterion, optimizer_ft, exp_lr_scheduler,\n",
    "                       num_epochs=1)"
   ]
  },
  {
   "cell_type": "code",
   "execution_count": null,
   "metadata": {},
   "outputs": [],
   "source": [
    "model_ft = torch.load(\"./models/resnet18_64_full_model.pt\")\n",
    "data_transforms = {\n",
    "    'val': transforms.Compose([\n",
    "        transforms.ToTensor(),\n",
    "    ])\n",
    "}\n",
    "valid_datasets =  datasets.ImageFolder('./tiny-imagenet-200/val',   data_transforms['val'])\n",
    "dataloaders = {\n",
    "    'val'   : torch.utils.data.DataLoader(valid_datasets, batch_size=100, shuffle=True, num_workers=0)\n",
    "}\n",
    "dataset_sizes = {\n",
    "    'val'   : len(valid_datasets)\n",
    "}\n",
    "#Loss Function\n",
    "criterion = nn.CrossEntropyLoss()\n",
    "# Observe that all parameters are being optimized\n",
    "optimizer_ft = optim.SGD(model_ft.parameters(), lr=0.001, momentum=0.9)\n",
    "\n",
    "# Decay LR by a factor of 0.1 every 7 epochs\n",
    "exp_lr_scheduler = lr_scheduler.StepLR(optimizer_ft, step_size=7, gamma=0.1)\n",
    "#Test\n",
    "test_model(model_ft, dataloaders, dataset_sizes, criterion, optimizer_ft, exp_lr_scheduler,\n",
    "                       num_epochs=1)"
   ]
  }
 ],
 "metadata": {
  "kernelspec": {
   "display_name": "Python 3",
   "language": "python",
   "name": "python3"
  },
  "language_info": {
   "codemirror_mode": {
    "name": "ipython",
    "version": 3
   },
   "file_extension": ".py",
   "mimetype": "text/x-python",
   "name": "python",
   "nbconvert_exporter": "python",
   "pygments_lexer": "ipython3",
   "version": "3.5.2"
  }
 },
 "nbformat": 4,
 "nbformat_minor": 2
}
